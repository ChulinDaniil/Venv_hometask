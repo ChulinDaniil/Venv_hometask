{
 "cells": [
  {
   "cell_type": "code",
   "execution_count": 9,
   "id": "e990ef16",
   "metadata": {},
   "outputs": [],
   "source": [
    "import numpy as np\n",
    "a = np.array([[1, 2, 3, 3, 1], [6, 8, 11, 10, 7]])\n",
    "mean_a = a.mean(axis=1)\n",
    "a = a.transpose()\n",
    "a = a.astype('float64')\n",
    "a_centered = a - mean_a\n",
    "a_centered = a_centered.transpose()"
   ]
  },
  {
   "cell_type": "code",
   "execution_count": 10,
   "id": "b7d76806",
   "metadata": {},
   "outputs": [
    {
     "data": {
      "text/plain": [
       "array([ 2.4, -0. ,  2.6,  1.6,  1.4])"
      ]
     },
     "execution_count": 10,
     "metadata": {},
     "output_type": "execute_result"
    }
   ],
   "source": [
    "a_first = a_centered[0]\n",
    "a_second = a_centered[1]\n",
    "a_centered_sp = a_first * a_second\n",
    "a_centered_sp"
   ]
  },
  {
   "cell_type": "code",
   "execution_count": 11,
   "id": "0a3233de",
   "metadata": {},
   "outputs": [
    {
     "data": {
      "text/plain": [
       "array([ 0.6 , -0.  ,  0.65,  0.4 ,  0.35])"
      ]
     },
     "execution_count": 11,
     "metadata": {},
     "output_type": "execute_result"
    }
   ],
   "source": [
    "a = a.transpose()\n",
    "b = len(a[0])\n",
    "result = a_centered_sp / (b - 1)\n",
    "result"
   ]
  }
 ],
 "metadata": {
  "kernelspec": {
   "display_name": "Python 3",
   "language": "python",
   "name": "python3"
  },
  "language_info": {
   "codemirror_mode": {
    "name": "ipython",
    "version": 3
   },
   "file_extension": ".py",
   "mimetype": "text/x-python",
   "name": "python",
   "nbconvert_exporter": "python",
   "pygments_lexer": "ipython3",
   "version": "3.9.1"
  }
 },
 "nbformat": 4,
 "nbformat_minor": 5
}
