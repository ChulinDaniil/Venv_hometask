{
 "cells": [
  {
   "cell_type": "code",
   "execution_count": 2,
   "id": "38cfef89",
   "metadata": {},
   "outputs": [],
   "source": [
    "import numpy as np\n",
    "import pandas as pd"
   ]
  },
  {
   "cell_type": "code",
   "execution_count": 4,
   "id": "64460a26",
   "metadata": {},
   "outputs": [
    {
     "data": {
      "text/plain": [
       "12"
      ]
     },
     "execution_count": 4,
     "metadata": {},
     "output_type": "execute_result"
    }
   ],
   "source": [
    "a = np.arange(12,24)"
   ]
  },
  {
   "cell_type": "code",
   "execution_count": 30,
   "id": "acb8a163",
   "metadata": {},
   "outputs": [],
   "source": [
    "b = a.reshape(2, 6)\n",
    "c = a.reshape(6, 2)\n",
    "d = a.reshape(3, 4)\n",
    "e = a.reshape(4, 3)\n",
    "f = a.reshape(12, 1)"
   ]
  },
  {
   "cell_type": "code",
   "execution_count": 35,
   "id": "89316b90",
   "metadata": {},
   "outputs": [],
   "source": [
    "g = a.reshape(12, -1)\n",
    "h = a.reshape(-1, 2)\n",
    "i = a.reshape(-1, 3)\n",
    "j = a.reshape(-1, 4)\n",
    "k = a.reshape(2, -1)"
   ]
  },
  {
   "cell_type": "markdown",
   "id": "454b269c",
   "metadata": {},
   "source": [
    "Можно ли массив Numpy, состоящий из одного столбца и 12 строк, назвать одномерным?\n",
    "\n",
    "нет, т.к. в одномерном массиве 1 строка"
   ]
  },
  {
   "cell_type": "code",
   "execution_count": 38,
   "id": "2b108dbd",
   "metadata": {},
   "outputs": [],
   "source": [
    "x = np.random.randn(3, 4)\n",
    "y = a.flatten()"
   ]
  },
  {
   "cell_type": "code",
   "execution_count": 37,
   "id": "b46ab879",
   "metadata": {},
   "outputs": [
    {
     "data": {
      "text/plain": [
       "array([20, 18, 16, 14, 12, 10,  8,  6,  4,  2])"
      ]
     },
     "execution_count": 37,
     "metadata": {},
     "output_type": "execute_result"
    }
   ],
   "source": [
    "a = np.arange(20, 0, -2)"
   ]
  },
  {
   "cell_type": "code",
   "execution_count": 43,
   "id": "a3ecc4d4",
   "metadata": {},
   "outputs": [],
   "source": [
    "b = a.reshape(10, 1)\n",
    "# а -- одномерный, b -- двумерный"
   ]
  },
  {
   "cell_type": "code",
   "execution_count": 5,
   "id": "2a27d3e9",
   "metadata": {},
   "outputs": [
    {
     "data": {
      "text/plain": [
       "10"
      ]
     },
     "execution_count": 5,
     "metadata": {},
     "output_type": "execute_result"
    }
   ],
   "source": [
    "a = np.zeros((2, 2))\n",
    "b = np.ones((3, 2))\n",
    "v = np.vstack((a, b))\n",
    "np.size(v)"
   ]
  },
  {
   "cell_type": "code",
   "execution_count": 10,
   "id": "a8b07fb1",
   "metadata": {},
   "outputs": [
    {
     "data": {
      "text/plain": [
       "16"
      ]
     },
     "execution_count": 10,
     "metadata": {},
     "output_type": "execute_result"
    }
   ],
   "source": [
    "a = np.arange(0, 12)\n",
    "A = a.reshape(4, 3)\n",
    "At = A.transpose()\n",
    "B = A.dot(At)\n",
    "np.size(B)\n",
    "\n",
    "# да получится, т.к. |B| > 0, что является необходимым и достаточным уловием для \n",
    "# построения обратной мартицы"
   ]
  },
  {
   "cell_type": "code",
   "execution_count": null,
   "id": "3717cc85",
   "metadata": {},
   "outputs": [],
   "source": []
  }
 ],
 "metadata": {
  "kernelspec": {
   "display_name": "Python 3",
   "language": "python",
   "name": "python3"
  },
  "language_info": {
   "codemirror_mode": {
    "name": "ipython",
    "version": 3
   },
   "file_extension": ".py",
   "mimetype": "text/x-python",
   "name": "python",
   "nbconvert_exporter": "python",
   "pygments_lexer": "ipython3",
   "version": "3.9.1"
  }
 },
 "nbformat": 4,
 "nbformat_minor": 5
}
