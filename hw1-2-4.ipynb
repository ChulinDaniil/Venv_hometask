{
 "cells": [
  {
   "cell_type": "code",
   "execution_count": 1,
   "id": "f11258a0",
   "metadata": {},
   "outputs": [],
   "source": [
    "import pandas as pd\n",
    "\n",
    "\n",
    "source_4_au = {\n",
    "    'author_id': [1, 2, 3],\n",
    "    'author_name': ['Turgenev', 'Chekhov', 'Ostrovsky']\n",
    "}\n",
    "\n",
    "source_4_book = {\n",
    "    'author_id' : [1, 1, 1, 2, 2, 3, 3],\n",
    "    'book_title' : ['Otsiy i deti', 'Rudin', 'Dvoryanskoe gnezdo', 'Tolstiy i tonkiy', \n",
    "                   'Dama s sobachkoy', 'Groza', 'Talanty i poklonniki'],\n",
    "    'price' : [450, 300, 350, 500, 450, 470, 290]\n",
    "}\n",
    "\n",
    "book = pd.DataFrame(source_4_book)\n",
    "\n",
    "authors = pd.DataFrame(source_4_au)\n",
    "\n",
    "authors_price = pd.merge(authors, book, on='author_id', how='outer')"
   ]
  },
  {
   "cell_type": "code",
   "execution_count": 30,
   "id": "1fb27aeb",
   "metadata": {},
   "outputs": [],
   "source": [
    "Turgenev = authors_price.loc[authors_price['author_id'] == 1]\n",
    "Turgenev_mean = Turgenev['price'].mean()\n",
    "Turgenev_min = Turgenev['price'].sort_values().head(1)\n",
    "Turgenev_max = Turgenev['price'].sort_values().tail(1)\n",
    "\n",
    "Chekhov = authors_price.loc[authors_price['author_id'] == 2]\n",
    "Chekhov_mean = Chekhov['price'].mean()\n",
    "Chekhov_min = Chekhov['price'].sort_values().head(1)\n",
    "Chekhov_max = Chekhov['price'].sort_values().tail(1)\n",
    "\n",
    "Ostrovsky = authors_price.loc[authors_price['author_id'] == 3]\n",
    "Ostrovsky_mean = Ostrovsky['price'].mean()\n",
    "Ostrovsky_min = Ostrovsky['price'].sort_values().head(1)\n",
    "Ostrovsky_max = Ostrovsky['price'].sort_values().tail(1)"
   ]
  },
  {
   "cell_type": "code",
   "execution_count": 46,
   "id": "5bd4be24",
   "metadata": {},
   "outputs": [],
   "source": [
    "source_4_austat = {\n",
    "    'author_name' : ['Turgenev', 'Chekhov', 'Ostrovsky'],\n",
    "    'min_price' : [Turgenev_min[1], Chekhov_min[4], Ostrovsky_min[6]],\n",
    "    'max_price' : [Turgenev_max[0], Chekhov_max[3], Ostrovsky_max[5]],\n",
    "    'mean_price' : [Turgenev_mean, Chekhov_mean, Ostrovsky_mean]\n",
    "}\n",
    "\n",
    "author_stat = pd.DataFrame(source_4_austat)\n",
    "author_stat"
   ]
  }
 ],
 "metadata": {
  "kernelspec": {
   "display_name": "Python 3",
   "language": "python",
   "name": "python3"
  },
  "language_info": {
   "codemirror_mode": {
    "name": "ipython",
    "version": 3
   },
   "file_extension": ".py",
   "mimetype": "text/x-python",
   "name": "python",
   "nbconvert_exporter": "python",
   "pygments_lexer": "ipython3",
   "version": "3.9.1"
  }
 },
 "nbformat": 4,
 "nbformat_minor": 5
}
