{
 "cells": [
  {
   "cell_type": "code",
   "execution_count": 2,
   "id": "9bff9bc1",
   "metadata": {},
   "outputs": [],
   "source": [
    "import pandas as pd\n",
    "source_4_au = {\n",
    "    'author_id': [1, 2, 3],\n",
    "    'author_name': ['Turgenev', 'Chekhov', 'Ostrovsky']\n",
    "}\n",
    "\n",
    "source_4_book = {\n",
    "    'author_id' : [1, 1, 1, 2, 2, 3, 3],\n",
    "    'book_title' : ['Otsiy i deti', 'Rudin', 'Dvoryanskoe gnezdo', 'Tolstiy i tonkiy', \n",
    "                   'Dama s sobachkoy', 'Groza', 'Talanty i poklonniki'],\n",
    "    'price' : [450, 300, 350, 500, 450, 470, 290]\n",
    "}\n",
    "\n",
    "book = pd.DataFrame(source_4_book)\n",
    "\n",
    "authors = pd.DataFrame(source_4_au)\n",
    "\n",
    "authors_price = pd.merge(authors, book, on='author_id', how='outer')"
   ]
  },
  {
   "cell_type": "code",
   "execution_count": 6,
   "id": "4ef7710d",
   "metadata": {},
   "outputs": [],
   "source": [
    "Top5 = authors_price.sort_values(by='price', ascending=False).head(5)"
   ]
  }
 ],
 "metadata": {
  "kernelspec": {
   "display_name": "Python 3",
   "language": "python",
   "name": "python3"
  },
  "language_info": {
   "codemirror_mode": {
    "name": "ipython",
    "version": 3
   },
   "file_extension": ".py",
   "mimetype": "text/x-python",
   "name": "python",
   "nbconvert_exporter": "python",
   "pygments_lexer": "ipython3",
   "version": "3.9.1"
  }
 },
 "nbformat": 4,
 "nbformat_minor": 5
}
