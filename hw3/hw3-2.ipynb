{
 "cells": [
  {
   "cell_type": "code",
   "execution_count": 25,
   "id": "e3cb7b90",
   "metadata": {},
   "outputs": [],
   "source": [
    "import warnings\n",
    "\n",
    "warnings.filterwarnings('ignore')\n",
    "\n",
    "import numpy as np\n",
    "import pandas as pd\n",
    "from sklearn.datasets import load_boston\n",
    "from sklearn.model_selection import train_test_split\n",
    "from sklearn.metrics import mean_squared_error\n",
    "from sklearn.linear_model import LinearRegression\n",
    "from sklearn.ensemble import RandomForestRegressor"
   ]
  },
  {
   "cell_type": "code",
   "execution_count": 26,
   "id": "cbdfefaf",
   "metadata": {},
   "outputs": [],
   "source": [
    "lr = LinearRegression()\n",
    "\n",
    "lr.fit(X_train, Y_train)\n",
    "\n",
    "y_pred_lr = lr.predict(X_test)\n",
    "\n",
    "check_test_lr = pd.DataFrame({\n",
    "    \"Y_test\": Y_test[\"price\"], \n",
    "    \"Y_pred_lr\": y_pred_lr.flatten()})\n",
    "\n",
    "\n",
    "y_pred_lr = lr.predict(X_test)\n",
    "\n",
    "check_test_lr = pd.DataFrame({\n",
    "    \"Y_test\": Y_test[\"price\"], \n",
    "    \"Y_pred_lr\": y_pred_lr.flatten()})\n",
    "\n",
    "mean_squared_error_lr = mean_squared_error(check_test_lr[\"Y_pred_lr\"], check_test_lr[\"Y_test\"])"
   ]
  },
  {
   "cell_type": "code",
   "execution_count": 27,
   "id": "5636f632",
   "metadata": {},
   "outputs": [],
   "source": [
    "boston = load_boston()\n",
    "data = boston[\"data\"]\n",
    "feature_names = boston[\"feature_names\"]\n",
    "target = boston[\"target\"]\n",
    "\n",
    "X = pd.DataFrame(data, columns=feature_names)\n",
    "Y = pd.DataFrame(target, columns=[\"price\"])\n",
    "\n",
    "X_train, X_test, Y_train, Y_test = train_test_split(X, Y, test_size=0.3, random_state=42)"
   ]
  },
  {
   "cell_type": "code",
   "execution_count": 28,
   "id": "63fbcb9d",
   "metadata": {},
   "outputs": [
    {
     "data": {
      "text/plain": [
       "RandomForestRegressor(max_depth=12, n_estimators=1000, random_state=42)"
      ]
     },
     "execution_count": 28,
     "metadata": {},
     "output_type": "execute_result"
    }
   ],
   "source": [
    "clf = RandomForestRegressor(n_estimators=1000, max_depth=12, random_state=42)\n",
    "clf.fit(X_train, Y_train.values[:, 0])"
   ]
  },
  {
   "cell_type": "code",
   "execution_count": 29,
   "id": "24cb3d6a",
   "metadata": {},
   "outputs": [
    {
     "data": {
      "text/html": [
       "<div>\n",
       "<style scoped>\n",
       "    .dataframe tbody tr th:only-of-type {\n",
       "        vertical-align: middle;\n",
       "    }\n",
       "\n",
       "    .dataframe tbody tr th {\n",
       "        vertical-align: top;\n",
       "    }\n",
       "\n",
       "    .dataframe thead th {\n",
       "        text-align: right;\n",
       "    }\n",
       "</style>\n",
       "<table border=\"1\" class=\"dataframe\">\n",
       "  <thead>\n",
       "    <tr style=\"text-align: right;\">\n",
       "      <th></th>\n",
       "      <th>Y_test</th>\n",
       "      <th>Y_pred_clf</th>\n",
       "    </tr>\n",
       "  </thead>\n",
       "  <tbody>\n",
       "    <tr>\n",
       "      <th>173</th>\n",
       "      <td>23.6</td>\n",
       "      <td>22.806412</td>\n",
       "    </tr>\n",
       "    <tr>\n",
       "      <th>274</th>\n",
       "      <td>32.4</td>\n",
       "      <td>31.131464</td>\n",
       "    </tr>\n",
       "    <tr>\n",
       "      <th>491</th>\n",
       "      <td>13.6</td>\n",
       "      <td>16.339125</td>\n",
       "    </tr>\n",
       "    <tr>\n",
       "      <th>72</th>\n",
       "      <td>22.8</td>\n",
       "      <td>23.810726</td>\n",
       "    </tr>\n",
       "    <tr>\n",
       "      <th>452</th>\n",
       "      <td>16.1</td>\n",
       "      <td>17.139521</td>\n",
       "    </tr>\n",
       "  </tbody>\n",
       "</table>\n",
       "</div>"
      ],
      "text/plain": [
       "     Y_test  Y_pred_clf\n",
       "173    23.6   22.806412\n",
       "274    32.4   31.131464\n",
       "491    13.6   16.339125\n",
       "72     22.8   23.810726\n",
       "452    16.1   17.139521"
      ]
     },
     "execution_count": 29,
     "metadata": {},
     "output_type": "execute_result"
    }
   ],
   "source": [
    "y_pred_clf = clf.predict(X_test)\n",
    "check_test_clf = pd.DataFrame({\n",
    "    \"Y_test\": Y_test[\"price\"], \n",
    "    \"Y_pred_clf\": y_pred_clf.flatten()})\n",
    "\n",
    "check_test_clf.head()"
   ]
  },
  {
   "cell_type": "code",
   "execution_count": 30,
   "id": "6b596bbc",
   "metadata": {},
   "outputs": [
    {
     "name": "stdout",
     "output_type": "stream",
     "text": [
      "9.334548946165196\n"
     ]
    }
   ],
   "source": [
    "mean_squared_error_clf = mean_squared_error(check_test_clf[\"Y_pred_clf\"], check_test_clf[\"Y_test\"])\n",
    "print(mean_squared_error_clf)"
   ]
  },
  {
   "cell_type": "code",
   "execution_count": 31,
   "id": "95e2907e",
   "metadata": {},
   "outputs": [
    {
     "name": "stdout",
     "output_type": "stream",
     "text": [
      "21.51744423117739 9.334548946165196\n"
     ]
    }
   ],
   "source": [
    "print(mean_squared_error_lr, mean_squared_error_clf)"
   ]
  },
  {
   "cell_type": "markdown",
   "id": "6422d2d0",
   "metadata": {},
   "source": [
    "random forest "
   ]
  }
 ],
 "metadata": {
  "kernelspec": {
   "display_name": "Python 3",
   "language": "python",
   "name": "python3"
  },
  "language_info": {
   "codemirror_mode": {
    "name": "ipython",
    "version": 3
   },
   "file_extension": ".py",
   "mimetype": "text/x-python",
   "name": "python",
   "nbconvert_exporter": "python",
   "pygments_lexer": "ipython3",
   "version": "3.9.1"
  }
 },
 "nbformat": 4,
 "nbformat_minor": 5
}
